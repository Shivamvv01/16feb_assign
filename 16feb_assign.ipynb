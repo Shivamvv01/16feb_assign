{
 "cells": [
  {
   "cell_type": "markdown",
   "id": "4e292512-de9d-46a2-a6ca-6195fa06c121",
   "metadata": {},
   "source": [
    "Q1. What is a database? Differentiate between SQL and NoSQL databases."
   ]
  },
  {
   "cell_type": "markdown",
   "id": "e21331b6-400c-44a2-9ecc-02e591f6751b",
   "metadata": {},
   "source": [
    "A database is a structured collection of data that is organized and stored electronically. It allows for efficient data storage, retrieval, and management. Databases are commonly used in various applications, from websites to enterprise systems.\n",
    "\n",
    "SQL (Structured Query Language) and NoSQL databases are two different types of database management systems:\n",
    "\n",
    "SQL databases are relational databases that use tables to store data. They are ideal for structured data with well-defined relationships. SQL databases are known for their ACID (Atomicity, Consistency, Isolation, Durability) compliance and are suitable for applications requiring data consistency and complex queries.\n",
    "\n",
    "NoSQL databases, on the other hand, are non-relational databases designed for unstructured or semi-structured data. They offer flexibility in data storage and are suitable for applications with constantly changing data requirements. NoSQL databases often prioritize scalability and can handle large amounts of data with horizontal scaling."
   ]
  },
  {
   "cell_type": "markdown",
   "id": "fdc28635-459d-4676-a290-6604c3b53917",
   "metadata": {},
   "source": [
    "Q2. What is DDL? Explain why CREATE, DROP, ALTER, and TRUNCATE are used with an example."
   ]
  },
  {
   "cell_type": "markdown",
   "id": "4f537089-336a-471a-833f-8a40948bdad8",
   "metadata": {},
   "source": [
    "DDL (Data Definition Language) is a subset of SQL used to define and manage the structure of a database. Key DDL commands include:\n",
    "\n",
    "CREATE: Used to create database objects like tables, indexes, and views.\n",
    "DROP: Used to delete database objects.\n",
    "ALTER: Used to modify the structure of existing database objects.\n",
    "TRUNCATE: Used to remove all data from a table while retaining the table structure."
   ]
  },
  {
   "cell_type": "markdown",
   "id": "2c161b41-b779-4a1e-9d40-0892bb9c329a",
   "metadata": {},
   "source": [
    "CREATE TABLE Employees (\n",
    "    EmployeeID INT PRIMARY KEY,\n",
    "    FirstName VARCHAR(50),\n",
    "    LastName VARCHAR(50)\n",
    ");\n",
    "\n",
    "ALTER TABLE Employees\n",
    "ADD Salary INT;\n",
    "\n",
    "DROP TABLE Employees;\n",
    "\n",
    "TRUNCATE TABLE Employees;\n"
   ]
  },
  {
   "cell_type": "markdown",
   "id": "a3d68cc4-e9ad-4867-979a-1ad9124b8997",
   "metadata": {},
   "source": [
    "Q3. What is DML? Explain INSERT, UPDATE, and DELETE with an example."
   ]
  },
  {
   "cell_type": "markdown",
   "id": "96b5f756-4888-444e-8729-37e0e4703484",
   "metadata": {},
   "source": [
    "DML (Data Manipulation Language) is used to manipulate data stored in a database. Key DML commands include:\n",
    "\n",
    "INSERT: Used to add new records into a table.\n",
    "UPDATE: Used to modify existing records.\n",
    "DELETE: Used to remove records from a table."
   ]
  },
  {
   "cell_type": "markdown",
   "id": "8d18e2f1-49b0-4dfe-9c61-b9233a8b6ee0",
   "metadata": {},
   "source": [
    "-- Inserting a new record\n",
    "INSERT INTO Employees (EmployeeID, FirstName, LastName, Salary)\n",
    "VALUES (1, 'John', 'Doe', 50000);\n",
    "\n",
    "-- Updating an existing record\n",
    "UPDATE Employees\n",
    "SET Salary = 55000\n",
    "WHERE EmployeeID = 1;\n",
    "\n",
    "-- Deleting a record\n",
    "DELETE FROM Employees\n",
    "WHERE EmployeeID = 1;\n"
   ]
  },
  {
   "cell_type": "markdown",
   "id": "eaeb3bbe-8b6b-4869-9943-46682994a879",
   "metadata": {},
   "source": [
    "Q4. What is DQL? Explain SELECT with an example."
   ]
  },
  {
   "cell_type": "markdown",
   "id": "5cbe6045-eec1-4f5e-b456-10c79dd10e2f",
   "metadata": {},
   "source": [
    "DQL (Data Query Language) is used to retrieve data from a database. The primary DQL command is SELECT, which allows you to query and retrieve data from one or more tables."
   ]
  },
  {
   "cell_type": "markdown",
   "id": "e8ec448f-cc59-4c26-a493-47b7c0368b6e",
   "metadata": {},
   "source": [
    "-- Selecting all records from the Employees table\n",
    "SELECT * FROM Employees;\n",
    "\n",
    "-- Selecting specific columns and applying a condition\n",
    "SELECT FirstName, LastName\n",
    "FROM Employees\n",
    "WHERE Salary > 50000;\n"
   ]
  },
  {
   "cell_type": "markdown",
   "id": "f670a6d6-41a9-41ca-b301-d733440e3321",
   "metadata": {},
   "source": [
    "Q5. Explain Primary Key and Foreign Key."
   ]
  },
  {
   "cell_type": "markdown",
   "id": "7aed5bfe-83f3-4a49-8f8f-2d39212755a3",
   "metadata": {},
   "source": [
    "primary key\n",
    "primary key generally focuses on the uniqueness of the table. It assures the value in the specific column is unique.\n",
    "\n",
    "foreign key\n",
    "foreign key is generally used to build a relationship between the two tables."
   ]
  },
  {
   "cell_type": "markdown",
   "id": "cbc899d6-4006-43af-80c9-0a56991036fb",
   "metadata": {},
   "source": [
    "Q6. Write a python code to connect MySQL to python. Explain the cursor() and execute() method."
   ]
  },
  {
   "cell_type": "markdown",
   "id": "d0e5429c-0759-4874-b69b-74f07105b92d",
   "metadata": {},
   "source": [
    "import mysql.connector \n",
    "\n",
    "\n",
    "# establishing the connection \n",
    "\n",
    "mydb=mysql.connector.connect(\n",
    "host =\"localhost\" ,\n",
    "user=\"username\" , \n",
    "password=\"password\" , \n",
    "database=\"databasename\"\n",
    ")\n",
    "\n",
    "\n",
    "# creating a cursor object \n",
    "\n",
    "mycursor=mydb.cursor()\n",
    "\n",
    "\n",
    "# executing a sql query \n",
    "\n",
    "mycursor.execute(\"select * from table_name\")\n",
    "\n",
    "\n",
    "# fetching the results \n",
    "\n",
    "result = mycursor.fetchall()\n",
    "\n",
    "# printing the results \n",
    "\n",
    "\n",
    "for row in result :\n",
    "    print(row)"
   ]
  },
  {
   "cell_type": "markdown",
   "id": "8b357ba0-9992-4f97-aebf-84cdc6d4cc48",
   "metadata": {},
   "source": [
    "cursor(): The cursor is a control structure that allows you to execute SQL queries in Python. It acts as a pointer to the current row in the result set.\n",
    "\n",
    "execute(): The execute method is used to send an SQL query to the database and execute it. It can be used for various operations like SELECT, INSERT, UPDATE, and DELETE. In the example, we execute a SELECT query and fetch the results."
   ]
  },
  {
   "cell_type": "markdown",
   "id": "2448bcf3-155b-4c5e-9590-2954ee5b7c4c",
   "metadata": {},
   "source": [
    "Q7. Give the order of execution of SQL clauses in an SQL query."
   ]
  },
  {
   "cell_type": "markdown",
   "id": "7bd1ada5-498c-4f93-8528-0cc72fcdad6c",
   "metadata": {},
   "source": [
    "FROM clause: Specifies the table or tables from which to retrieve data.\n",
    "\n",
    "JOIN clause: Specifies how to join multiple tables together, if needed.\n",
    "\n",
    "WHERE clause: Specifies which rows to retrieve based on a set of conditions.\n",
    "\n",
    "GROUP BY clause: Specifies how to group rows based on one or more columns.\n",
    "\n",
    "HAVING clause: Specifies which groups to retrieve based on a set of conditions.\n",
    "\n",
    "SELECT clause: Specifies which columns to retrieve.\n",
    "\n",
    "DISTINCT clause: Specifies to retrieve only distinct values of the specified columns.\n",
    "\n",
    "ORDER BY clause: Specifies how to sort the retrieved rows based on one or more columns.\n",
    "\n",
    "LIMIT clause: Specifies the maximum number of rows to retrieve."
   ]
  }
 ],
 "metadata": {
  "kernelspec": {
   "display_name": "Python 3 (ipykernel)",
   "language": "python",
   "name": "python3"
  },
  "language_info": {
   "codemirror_mode": {
    "name": "ipython",
    "version": 3
   },
   "file_extension": ".py",
   "mimetype": "text/x-python",
   "name": "python",
   "nbconvert_exporter": "python",
   "pygments_lexer": "ipython3",
   "version": "3.10.8"
  }
 },
 "nbformat": 4,
 "nbformat_minor": 5
}
